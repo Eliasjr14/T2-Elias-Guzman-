{
 "cells": [
  {
   "cell_type": "markdown",
   "metadata": {},
   "source": [
    "# Programming language of the year? Python is standout in latest rankings\n",
    "\n",
    " \n",
    "\n",
    "Python gained 3.62 percentage points year over year in Tiobe's January 2019 index, beating rises by Visual Basic .NET and Java, the second and third biggest gainers. \n",
    "\n",
    "Python entered the top three in Tiobe's popularity index in September, thanks to its use in a growing number of fields. \n",
    "it's often the first language taught at universities and it's the go-to language for statistical analysis, machine learning, scripting, web programming, and scientific computing. \n",
    "Python its easy-to-grasp syntax, broad availability of online tutorials, and an abundance of harmless third-party software libraries\n",
    "\n",
    "*The top 20 languages in descending order for January 2019 were Java, C, Python, C++, Visual Basic .NET, JavaScript, C#, PHP, SQL, Objective-C, MATLAB, R, Perl, Assembly language, Swift, Go, Delphi/Object Pascal, Ruby, PL/SQL, and Visual Basic.*  \n",
    "\n",
    "Resumen de [Programming language of the year? Python is standout in latest rankings](https://www.zdnet.com/article/programming-language-of-the-year-python-is-standout-in-latest-rankings/)\n",
    "\n",
    "![](https://t1.daumcdn.net/cfile/tistory/995361415C4AA28E2E)\n",
    "\n"
   ]
  },
  {
   "cell_type": "markdown",
   "metadata": {},
   "source": [
    "# Python is becoming the world’s most popular coding language\n",
    "\n",
    ">I CERTAINLY didn’t set out to create a language that was intended for mass consumption,” says Guido van Rossum\n",
    "\n",
    "\n",
    "\n",
    "three decades on, his invention has overtaken almost all of its rivals and brought coding to the fingertips of people who were once baffled by it. \n",
    "In the past 12 months Americans have searched for Python on Google more often than for Kim Kardashian, a reality-TV star. The number of queries has trebled since 2010, while those for other major programming languages have been flat or declining. \n",
    "\n",
    "\n",
    "### Advantages\n",
    "The language’s two main advantages are its simplicity and flexibility. Its straightforward syntax and use of indented spaces make it easy to learn, read and share.\n",
    "\n",
    "\n",
    "With such a rapidly growing user base and wide array of capabilities, Python might seem destined to become the lingua franca of coding, rendering all other competitors obsolete. however some people says that:\n",
    ">python will not replace C and C++, which are “lower-level options” that give the user more control over what is going on in a computer’s processor. Nor will it kill off Java, which is popular for building complicated applications, or JavaScript, which powers most web pages. \n",
    "\n",
    "\n",
    "\n",
    "\n",
    "Resumen de [Python is becoming the world’s most popular coding language](https://www.economist.com/graphic-detail/2018/07/26/python-is-becoming-the-worlds-most-popular-coding-language)\n"
   ]
  },
  {
   "cell_type": "markdown",
   "metadata": {},
   "source": [
    "\n"
   ]
  }
 ],
 "metadata": {
  "kernelspec": {
   "display_name": "Python 3",
   "language": "python",
   "name": "python3"
  },
  "language_info": {
   "codemirror_mode": {
    "name": "ipython",
    "version": 3
   },
   "file_extension": ".py",
   "mimetype": "text/x-python",
   "name": "python",
   "nbconvert_exporter": "python",
   "pygments_lexer": "ipython3",
   "version": "3.7.1"
  }
 },
 "nbformat": 4,
 "nbformat_minor": 2
}
